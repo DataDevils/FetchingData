{
 "cells": [
  {
   "cell_type": "markdown",
   "metadata": {},
   "source": [
    "## Retrieve electric vehicle charging locations using the NREL API\n",
    "\n",
    "---\n",
    "**OBJECTIVES**\n",
    " * Understand what an API is and why it's useful\n",
    " * Hands on experience using Python to extract data via an API\n",
    " * Review of Pandas techniques for handling tabular data, including export\n",
    "---\n",
    "\n",
    "### ♦ What is an API?\n",
    "Every time you browse a web site, you are sending a **request** from your browser (or **client**) to a remote **server** to send back the **content** in a format that your browser can interpret and display. Often, the actual request you send can be seen in the web site's URL, which includes the address of the server, the service name, and parameters for the service. \n",
    "\n",
    "> **Try this**:\n",
    "> * Open Google's home page: https://google.com\n",
    "> * Search for \"Nicholas School of the Environment\" \n",
    "> * When complete, look at the web address of the search results page. \n",
    "> * Simplified, the address is https://google.com/search?q=Nicholas+School+of+the+Environment. \n",
    "> * Can you identify the `service address`, `service name`, and `parameters` in the above URL? \n",
    "\n",
    "APIs, or Application Programming Interfaces, are the set of services and parameters that a particular client (e.g. Google) provides, and they are the basis for a lot of client/server or \"cloud\" computing. \n",
    "\n",
    "\n",
    "### ♦ How to use an API\n",
    "Many data portals have APIs that allow us to request specific datasets and download them to our local machine. Here we examine some of NREL's API and how we can use these APIs to extract electric vehicle charging locations as a CSV file with coordinates. To use this API, you'll need to sign up for an API key - a unique identifier that allows NREL to track usage and ensure that no single user is overloading the service with requests.\n",
    "\n",
    "> **Explore the NREL API**:\n",
    "> * Navigate to the NREL API main site: https://developer.nrel.gov/\n",
    "> * Examine the various themese in which APIs are provided. **Then sign up for a key.** <br>→*Create a new text document called `NRELkey.txt` and save your key in that file.* \n",
    "> * Navigate to the group of transportation related APIs: https://developer.nrel.gov/docs/transportation/\n",
    "> * And from there, navigate to APIs on [alternative fuel stations](https://developer.nrel.gov/docs/transportation/alt-fuel-stations-v1/)\n",
    "\n",
    "You see they have various ways of extracting stations. You can just ask to get all stations, a specific station, or even do some rudimentary spatial analysis to filter stations geographically. So let's look at how to engage these APIs. \n",
    "\n",
    "### ♦ Python packages used to retrive data via APIs\n",
    "We'll use the Python `requests` package to send our request and handle the response (i.e. the data returned). And we'll use `Pandas` to wrangle the data returned into a nicely formatted dataframe and export as a tidy CSV file. "
   ]
  },
  {
   "cell_type": "markdown",
   "metadata": {},
   "source": [
    "### Code to request, process, and save data using the NREL API\n",
    "The steps invovled in invoking an API in Python include: \n",
    "* Importing the packages used to handle the API request ('requests') and to handle the data ('pandas').\n",
    "* Constructing the request, adhering to the API documentation\n",
    "* Sending the request and accepting the raw response \n",
    "* Wrangling the raw response into a useful data object\n",
    "* Saving the data in a useful format (e.g. CSV) to a local file. "
   ]
  },
  {
   "cell_type": "code",
   "execution_count": null,
   "metadata": {},
   "outputs": [],
   "source": [
    "#Import requests and pandas packages to our Python environment\n",
    "import requests\n",
    "import pandas as pd"
   ]
  },
  {
   "cell_type": "markdown",
   "metadata": {},
   "source": [
    "*You can either set the `key` variable equal to your API key. Or what I like to do is save it to a text file (mine is called `NRELkey.txt`) and then read the value from the text file into the script. That way the key does not appear in your code...*"
   ]
  },
  {
   "cell_type": "code",
   "execution_count": null,
   "metadata": {},
   "outputs": [],
   "source": [
    "#Read key file in\n",
    "key = open('NRELkey.txt','r').readline()"
   ]
  },
  {
   "cell_type": "markdown",
   "metadata": {},
   "source": [
    "First, we'll use the `All Stations` api to extract a set of sites. \n",
    "* View the [documentation](https://developer.nrel.gov/docs/transportation/alt-fuel-stations-v1/all/) for this API.\n",
    "* Note the Request URL: `GET /api/alt-fuel-stations/v1.format?parameters`. This indicates how the API call is structured. \n",
    "* Also note what parameters we can use and how they are called. \n",
    "\n",
    "Below, we'll construct our request in two parts. The first part will be the `baseURL`; this includes the web address (`https://developer.nrel.gov/api/`) and service name (`alt-fuel-stations/v1.json`). The second part will be a Python *[dictionary object](https://www.w3schools.com/python/python_dictionaries.asp)* containing the set of parameter names and values we want to include in our request. "
   ]
  },
  {
   "cell_type": "code",
   "execution_count": null,
   "metadata": {},
   "outputs": [],
   "source": [
    "#Construct requests to fetch all stations in North Carolina\n",
    "baseURL = 'https://developer.nrel.gov/api/alt-fuel-stations/v1.json?'\n",
    "params = {\n",
    "    'api_key':key,                #Our key, to authenticate the service\n",
    "    'status':'E',                 #Request only currently open sites \n",
    "    'fuel_type':'ELEC',           #Request only Electric sites\n",
    "    'ev_charging_level':'dc_fast',#Request only DCFC sites\n",
    "    'state':'NC' ,                #Request only NC sites\n",
    "    'limit':'all'                 #Don't cap results to first 200 (default)\n",
    "}"
   ]
  },
  {
   "cell_type": "markdown",
   "metadata": {},
   "source": [
    "---\n",
    "<div class=\"alert alert-info\">\n",
    "  ► TASK: Modify the above code cell so that only public sites are requested\n",
    "</div> "
   ]
  },
  {
   "cell_type": "code",
   "execution_count": null,
   "metadata": {},
   "outputs": [],
   "source": [
    "#TASK: Modify the above code cells to return only public sites\n",
    "baseURL = 'https://developer.nrel.gov/api/alt-fuel-stations/v1.json?'\n",
    "params = {\n",
    "    'api_key':key,                #Our key, to authenticate the service\n",
    "    'status':'E',                 #Request only currently open sites \n",
    "    'fuel_type':'ELEC',           #Request only Electric sites\n",
    "    'ev_charging_level':'dc_fast',#Request only DCFC sites\n",
    "    'state':'NC' ,                #Request only NC sites\n",
    "    'limit':'all'                 #Don't cap results to first 200 (default)\n",
    "}"
   ]
  },
  {
   "cell_type": "markdown",
   "metadata": {},
   "source": [
    "---\n",
    "Now, with our request objects created, we use the `requests.get` function to send that request off to the NREL server, saving the server's response as the variable `raw_result`"
   ]
  },
  {
   "cell_type": "code",
   "execution_count": null,
   "metadata": {},
   "outputs": [],
   "source": [
    "#Execute request, storing result as the variable \"raw_result\"\n",
    "result_raw = requests.get(baseURL,params)"
   ]
  },
  {
   "cell_type": "code",
   "execution_count": null,
   "metadata": {},
   "outputs": [],
   "source": [
    "#What kind of Python object is the `raw_result`? Use the \"type()\" command to find out...\n",
    "type(result_raw)"
   ]
  },
  {
   "cell_type": "code",
   "execution_count": null,
   "metadata": {},
   "outputs": [],
   "source": [
    "#What can I do with this raw_result object? Use the \"help()\"\" command to find out...\n",
    "help(result_raw)"
   ]
  },
  {
   "cell_type": "code",
   "execution_count": null,
   "metadata": {},
   "outputs": [],
   "source": [
    "#What does the \"json\" method do? Use the Juptyer help (\"?\") to find out...\n",
    "?result_raw.json"
   ]
  },
  {
   "cell_type": "markdown",
   "metadata": {},
   "source": [
    "We'll convert our \"raw\" response object to a **JSON** formatted object, which translates into a **Python dictionary** object. "
   ]
  },
  {
   "cell_type": "code",
   "execution_count": null,
   "metadata": {},
   "outputs": [],
   "source": [
    "#Convert the raw_result object to a JSON dictionary\n",
    "result_json = result_raw.json()"
   ]
  },
  {
   "cell_type": "code",
   "execution_count": null,
   "metadata": {},
   "outputs": [],
   "source": [
    "#What is this json object?\n",
    "type(result_json)"
   ]
  },
  {
   "cell_type": "markdown",
   "metadata": {},
   "source": [
    "The dictionary is hierarchical, with different response **values** stored with different **keys**, so let's see what those keys are named..."
   ]
  },
  {
   "cell_type": "code",
   "execution_count": null,
   "metadata": {},
   "outputs": [],
   "source": [
    "#Examine the keys associated with the dictionary\n",
    "result_json.keys()"
   ]
  },
  {
   "cell_type": "markdown",
   "metadata": {},
   "source": [
    "The dictionary keys correspond with the [\"response fields\" listed in the API's documentation](https://developer.nrel.gov/docs/transportation/alt-fuel-stations-v1/all/#response-fields).\n",
    "\n",
    "The values associated with the `fuel_stations` key holds the listing all the results..."
   ]
  },
  {
   "cell_type": "code",
   "execution_count": null,
   "metadata": {},
   "outputs": [],
   "source": [
    "#Examine the values associated with the \"fuel_stations\" key in the result_json dictionary\n",
    "result_json['fuel_stations']"
   ]
  },
  {
   "cell_type": "markdown",
   "metadata": {},
   "source": [
    "Next, we convert this dictionary of values to a **Pandas dataframe**. Pandas is a powerful package that allows a great deal of data exploration, visualization, analysis, and transformation. We'll just examine a few features."
   ]
  },
  {
   "cell_type": "code",
   "execution_count": null,
   "metadata": {},
   "outputs": [],
   "source": [
    "#Pull results in 'fuel_stations' item into a dataframe\n",
    "df = pd.DataFrame.from_dict(result_json['fuel_stations'])"
   ]
  },
  {
   "cell_type": "code",
   "execution_count": null,
   "metadata": {},
   "outputs": [],
   "source": [
    "#Reveal the size of this dataframe, in rows and columns\n",
    "df.shape"
   ]
  },
  {
   "cell_type": "code",
   "execution_count": null,
   "metadata": {},
   "outputs": [],
   "source": [
    "#Reveal the columns associated with the data\n",
    "df.columns"
   ]
  },
  {
   "cell_type": "markdown",
   "metadata": {},
   "source": [
    "We have a lot of extraneous columns in our table. Below is code to identify those matching specific criteria and then remove them."
   ]
  },
  {
   "cell_type": "code",
   "execution_count": null,
   "metadata": {},
   "outputs": [],
   "source": [
    "#Create a list of non EV columns\n",
    "dropCols = [col for col in df.columns if col[:3] in ('bd_','cng','hy_','ng_','e85','lng','lpg')]\n",
    "#Append a list French columns to the above list\n",
    "dropCols += [col for col in df.columns if col[-2:] == 'fr']\n",
    "#Print the list\n",
    "print(dropCols)"
   ]
  },
  {
   "cell_type": "code",
   "execution_count": null,
   "metadata": {},
   "outputs": [],
   "source": [
    "#Drop the columns identified above\n",
    "df.drop(columns = dropCols,inplace=True)"
   ]
  },
  {
   "cell_type": "code",
   "execution_count": null,
   "metadata": {},
   "outputs": [],
   "source": [
    "#Examine the column list again\n",
    "df.columns"
   ]
  },
  {
   "cell_type": "code",
   "execution_count": null,
   "metadata": {},
   "outputs": [],
   "source": [
    "#Reveal the first 5 rows of data\n",
    "df.head()"
   ]
  },
  {
   "cell_type": "code",
   "execution_count": null,
   "metadata": {},
   "outputs": [],
   "source": [
    "#Look at unique values in the \"access_days_time\" field\n",
    "df['access_days_time'].unique()"
   ]
  },
  {
   "cell_type": "code",
   "execution_count": null,
   "metadata": {},
   "outputs": [],
   "source": [
    "#Plot, using matplotlib\n",
    "%matplotlib inline\n",
    "df.plot(x='longitude',\n",
    "        y='latitude',\n",
    "        kind='scatter',\n",
    "        grid=True);"
   ]
  },
  {
   "cell_type": "markdown",
   "metadata": {},
   "source": [
    "And finally, we'll export our Pandas dataframe to a CSV format file..."
   ]
  },
  {
   "cell_type": "code",
   "execution_count": null,
   "metadata": {},
   "outputs": [],
   "source": [
    "#Export data to csv file, omitting the index\n",
    "df.to_csv(\"NREL_DFCFsites.csv\",index=False)"
   ]
  }
 ],
 "metadata": {
  "kernelspec": {
   "display_name": "Python 3",
   "language": "python",
   "name": "python3"
  },
  "language_info": {
   "codemirror_mode": {
    "name": "ipython",
    "version": 3
   },
   "file_extension": ".py",
   "mimetype": "text/x-python",
   "name": "python",
   "nbconvert_exporter": "python",
   "pygments_lexer": "ipython3",
   "version": "3.7.3"
  }
 },
 "nbformat": 4,
 "nbformat_minor": 2
}
