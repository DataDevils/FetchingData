{
 "cells": [
  {
   "cell_type": "markdown",
   "metadata": {},
   "source": [
    "# Fetching data from ArcGIS Online\n",
    "The [ArcGIS Python API](https://developers.arcgis.com/python/) is a powerful Python package for accessing ArcGIS Online resources. Here, we'll use it to download MJB&A's exit data to a local shapefile.\n",
    "\n",
    "A useful tutoral for this workbook: https://developers.arcgis.com/labs/python/download-data/"
   ]
  },
  {
   "cell_type": "code",
   "execution_count": 1,
   "metadata": {},
   "outputs": [],
   "source": [
    "#Import the arcgis GIS module - used to search AGOL for content\n",
    "from arcgis import GIS\n",
    "\n",
    "#Import the\n",
    "import pandas as pd"
   ]
  },
  {
   "cell_type": "markdown",
   "metadata": {},
   "source": [
    "### 1. Searching for content\n",
    "The ArcGIS Python API's [gis module](https://developers.arcgis.com/python/guide/the-gis-module/) allows us to interact with ArcGIS Online content. \n",
    "* https://developers.arcgis.com/python/guide/accessing-and-creating-content/#Searching-for-content"
   ]
  },
  {
   "cell_type": "code",
   "execution_count": 13,
   "metadata": {},
   "outputs": [
    {
     "data": {
      "text/plain": [
       "4"
      ]
     },
     "execution_count": 13,
     "metadata": {},
     "output_type": "execute_result"
    }
   ],
   "source": [
    "#Create a gis object\n",
    "gis = GIS()\n",
    "#Use the gis object to search content\n",
    "results = gis.content.search(query='NC exits 2019 owner:lukehellgren1',\n",
    "                             max_items = 500)\n",
    "len(results)"
   ]
  },
  {
   "cell_type": "code",
   "execution_count": 14,
   "metadata": {},
   "outputs": [
    {
     "data": {
      "text/plain": [
       "[<Item title:\"TCI_NC_exits_2019_06_11_v1\" type:Feature Layer Collection owner:lukehellgren1>,\n",
       " <Item title:\"TCI_NC_exits_2019_05_31_v1\" type:Feature Layer Collection owner:lukehellgren1>,\n",
       " <Item title:\"TCI_NC_exits_2019_05_31_20miBuffer\" type:Feature Layer Collection owner:lukehellgren1>,\n",
       " <Item title:\"TCI_NC_exits_2019_05_31_nodata\" type:Feature Layer Collection owner:lukehellgren1>]"
      ]
     },
     "execution_count": 14,
     "metadata": {},
     "output_type": "execute_result"
    }
   ],
   "source": [
    "#Show a list of results\n",
    "results"
   ]
  },
  {
   "cell_type": "code",
   "execution_count": 17,
   "metadata": {},
   "outputs": [
    {
     "name": "stdout",
     "output_type": "stream",
     "text": [
      "<class 'arcgis.gis.Item'>\n"
     ]
    },
    {
     "data": {
      "text/html": [
       "<div class=\"item_container\" style=\"height: auto; overflow: hidden; border: 1px solid #cfcfcf; border-radius: 2px; background: #f6fafa; line-height: 1.21429em; padding: 10px;\">\n",
       "                    <div class=\"item_left\" style=\"width: 210px; float: left;\">\n",
       "                       <a href='https://www.arcgis.com/home/item.html?id=591c9dcc30244ddaa6a35d36571b94dd' target='_blank'>\n",
       "                        <img src='https://www.arcgis.com/sharing/rest//content/items/591c9dcc30244ddaa6a35d36571b94dd/info/thumbnail/thumbnail.png' class=\"itemThumbnail\">\n",
       "                       </a>\n",
       "                    </div>\n",
       "\n",
       "                    <div class=\"item_right\"     style=\"float: none; width: auto; overflow: hidden;\">\n",
       "                        <a href='https://www.arcgis.com/home/item.html?id=591c9dcc30244ddaa6a35d36571b94dd' target='_blank'><b>TCI_NC_exits_2019_06_11_v1</b>\n",
       "                        </a>\n",
       "                        <br/>Exits<img src='https://www.arcgis.com/home/js/jsapi/esri/css/images/item_type_icons/featureshosted16.png' style=\"vertical-align:middle;\">Feature Layer Collection by lukehellgren1\n",
       "                        <br/>Last Modified: June 12, 2019\n",
       "                        <br/>0 comments, 311 views\n",
       "                    </div>\n",
       "                </div>\n",
       "                "
      ],
      "text/plain": [
       "<Item title:\"TCI_NC_exits_2019_06_11_v1\" type:Feature Layer Collection owner:lukehellgren1>"
      ]
     },
     "execution_count": 17,
     "metadata": {},
     "output_type": "execute_result"
    }
   ],
   "source": [
    "#Assign the name \"item\" the first item in the results list; then show the item\n",
    "item = results[0]\n",
    "#Reveal the data type of the \"item\" object\n",
    "print(type(item))\n",
    "#Show the item\n",
    "item"
   ]
  },
  {
   "cell_type": "markdown",
   "metadata": {},
   "source": [
    "We just create an ArcGIS \"[item]()https://developers.arcgis.com/python/api-reference/arcgis.gis.toc.html#item\" object. This item is our link to a specific resource stored on some ArcGIS Online server. We can show a number of properties associated with this item. "
   ]
  },
  {
   "cell_type": "code",
   "execution_count": 18,
   "metadata": {},
   "outputs": [
    {
     "data": {
      "text/plain": [
       "'TCI_NC_exits_2019_06_11_v1'"
      ]
     },
     "execution_count": 18,
     "metadata": {},
     "output_type": "execute_result"
    }
   ],
   "source": [
    "#Show the item's title\n",
    "item.title"
   ]
  },
  {
   "cell_type": "code",
   "execution_count": 33,
   "metadata": {},
   "outputs": [
    {
     "data": {
      "text/plain": [
       "'Feature Service'"
      ]
     },
     "execution_count": 33,
     "metadata": {},
     "output_type": "execute_result"
    }
   ],
   "source": [
    "#Show the type of service this is\n",
    "item.type"
   ]
  },
  {
   "cell_type": "code",
   "execution_count": 32,
   "metadata": {},
   "outputs": [
    {
     "data": {
      "text/plain": [
       "'591c9dcc30244ddaa6a35d36571b94dd'"
      ]
     },
     "execution_count": 32,
     "metadata": {},
     "output_type": "execute_result"
    }
   ],
   "source": [
    "#Show the item's unique id\n",
    "item.id"
   ]
  },
  {
   "cell_type": "code",
   "execution_count": 31,
   "metadata": {},
   "outputs": [
    {
     "name": "stdout",
     "output_type": "stream",
     "text": [
      "https://services7.arcgis.com/fqNd6NEGNf5qzQdv/arcgis/rest/services/TCI_NC_exits_2019_06_11_v1/FeatureServer\n"
     ]
    }
   ],
   "source": [
    "#Show where the item is stored, i.e., its URL\n",
    "print(item.url)"
   ]
  },
  {
   "cell_type": "markdown",
   "metadata": {},
   "source": [
    "If you open the link above, you'll see the **REST endpoint** of the service which reveals information about the service includng what layers (if any) are associated with the service. Here we see ours has one layer. We can also get this information via Python"
   ]
  },
  {
   "cell_type": "code",
   "execution_count": 35,
   "metadata": {},
   "outputs": [
    {
     "data": {
      "text/plain": [
       "[<FeatureLayer url:\"https://services7.arcgis.com/fqNd6NEGNf5qzQdv/arcgis/rest/services/TCI_NC_exits_2019_06_11_v1/FeatureServer/1\">]"
      ]
     },
     "execution_count": 35,
     "metadata": {},
     "output_type": "execute_result"
    }
   ],
   "source": [
    "#Show the layers associated with the item\n",
    "item.layers"
   ]
  },
  {
   "cell_type": "code",
   "execution_count": 36,
   "metadata": {},
   "outputs": [
    {
     "data": {
      "text/plain": [
       "arcgis.features.layer.FeatureLayer"
      ]
     },
     "execution_count": 36,
     "metadata": {},
     "output_type": "execute_result"
    }
   ],
   "source": [
    "#Extract the one (and only) layer into a new variable\n",
    "layer = item.layers[0]\n",
    "type(layer)"
   ]
  },
  {
   "cell_type": "markdown",
   "metadata": {},
   "source": [
    "Now we have a new object - an ArcGIS [FeatureLayer](https://developers.arcgis.com/python/api-reference/arcgis.features.toc.html#featurelayer) object. We are getting closer to the actual data object..."
   ]
  },
  {
   "cell_type": "code",
   "execution_count": 41,
   "metadata": {},
   "outputs": [
    {
     "name": "stdout",
     "output_type": "stream",
     "text": [
      "FID\n",
      "Exit_ID\n",
      "Longitude\n",
      "Latitude\n",
      "County\n",
      "State\n",
      "Highway\n",
      "Type\n",
      "AADT\n",
      "Pop_dens\n",
      "Comm_1mi\n",
      "Ports_5mi\n",
      "Ports_10mi\n",
      "Ports_20mi\n",
      "Close_nonT\n"
     ]
    }
   ],
   "source": [
    "#Extract a list of fields from the layer's properties object\n",
    "fields = layer.properties.fields\n",
    "#Print all the field names\n",
    "for f in fields: print (f.name)"
   ]
  },
  {
   "cell_type": "code",
   "execution_count": 43,
   "metadata": {},
   "outputs": [
    {
     "data": {
      "text/plain": [
       "['PA',\n",
       " 'DE',\n",
       " 'NH',\n",
       " 'MD',\n",
       " 'DC',\n",
       " 'VA',\n",
       " 'ME',\n",
       " 'RI',\n",
       " 'MA',\n",
       " 'NY',\n",
       " 'CT',\n",
       " 'NJ',\n",
       " 'VT',\n",
       " 'NC']"
      ]
     },
     "execution_count": 43,
     "metadata": {},
     "output_type": "execute_result"
    }
   ],
   "source": [
    "#Get unique values in a given field\n",
    "layer.get_unique_values('State')"
   ]
  },
  {
   "cell_type": "code",
   "execution_count": 50,
   "metadata": {},
   "outputs": [
    {
     "data": {
      "text/plain": [
       "arcgis.features.feature.FeatureSet"
      ]
     },
     "execution_count": 50,
     "metadata": {},
     "output_type": "execute_result"
    }
   ],
   "source": [
    "#Query a set of features from the layer\n",
    "selected_features = layer.query('State = \\'NC\\'')\n",
    "type(selected_features)"
   ]
  },
  {
   "cell_type": "code",
   "execution_count": 51,
   "metadata": {},
   "outputs": [
    {
     "data": {
      "text/plain": [
       "1178"
      ]
     },
     "execution_count": 51,
     "metadata": {},
     "output_type": "execute_result"
    }
   ],
   "source": [
    "#How many feature have been returned?\n",
    "len(selected_features)"
   ]
  },
  {
   "cell_type": "markdown",
   "metadata": {},
   "source": [
    "When we query the layer, it returns a new object, the arcgis [FeatureSet](https://developers.arcgis.com/python/api-reference/arcgis.features.toc.html#featureset). We can convert this to a [Spatially enabled dataframe] which is much like the familiar GeoPandas geodataframe."
   ]
  },
  {
   "cell_type": "code",
   "execution_count": 65,
   "metadata": {},
   "outputs": [
    {
     "name": "stderr",
     "output_type": "stream",
     "text": [
      "/opt/conda/lib/python3.7/site-packages/IPython/lib/pretty.py:402: FutureWarning: 'ExtensionArray._formatting_values' is deprecated. Specify 'ExtensionArray._formatter' instead.\n",
      "  return _repr_pprint(obj, self, cycle)\n",
      "/opt/conda/lib/python3.7/site-packages/pandas/io/formats/html.py:606: FutureWarning: 'ExtensionArray._formatting_values' is deprecated. Specify 'ExtensionArray._formatter' instead.\n",
      "  super().render()\n"
     ]
    },
    {
     "data": {
      "text/html": [
       "<div>\n",
       "<style scoped>\n",
       "    .dataframe tbody tr th:only-of-type {\n",
       "        vertical-align: middle;\n",
       "    }\n",
       "\n",
       "    .dataframe tbody tr th {\n",
       "        vertical-align: top;\n",
       "    }\n",
       "\n",
       "    .dataframe thead th {\n",
       "        text-align: right;\n",
       "    }\n",
       "</style>\n",
       "<table border=\"1\" class=\"dataframe\">\n",
       "  <thead>\n",
       "    <tr style=\"text-align: right;\">\n",
       "      <th></th>\n",
       "      <th>FID</th>\n",
       "      <th>Exit_ID</th>\n",
       "      <th>Longitude</th>\n",
       "      <th>Latitude</th>\n",
       "      <th>County</th>\n",
       "      <th>State</th>\n",
       "      <th>Highway</th>\n",
       "      <th>Type</th>\n",
       "      <th>AADT</th>\n",
       "      <th>Pop_dens</th>\n",
       "      <th>Comm_1mi</th>\n",
       "      <th>Ports_5mi</th>\n",
       "      <th>Ports_10mi</th>\n",
       "      <th>Ports_20mi</th>\n",
       "      <th>Close_nonT</th>\n",
       "      <th>SHAPE</th>\n",
       "    </tr>\n",
       "  </thead>\n",
       "  <tbody>\n",
       "    <tr>\n",
       "      <th>0</th>\n",
       "      <td>7059</td>\n",
       "      <td>US-64_Cherokee_NC_Exit_1</td>\n",
       "      <td>-84.314304</td>\n",
       "      <td>35.019492</td>\n",
       "      <td>Cherokee</td>\n",
       "      <td>NC</td>\n",
       "      <td>U.S. Highway 64</td>\n",
       "      <td>Exit/Intersection</td>\n",
       "      <td>3700</td>\n",
       "      <td>60.34979</td>\n",
       "      <td>1</td>\n",
       "      <td>0</td>\n",
       "      <td>0</td>\n",
       "      <td>0</td>\n",
       "      <td>34.094152</td>\n",
       "      <td>{\"x\": -84.31430368976345, \"y\": 35.019491849669...</td>\n",
       "    </tr>\n",
       "    <tr>\n",
       "      <th>1</th>\n",
       "      <td>7060</td>\n",
       "      <td>US-64_Cherokee_NC_Exit_2</td>\n",
       "      <td>-84.311492</td>\n",
       "      <td>35.014933</td>\n",
       "      <td>Cherokee</td>\n",
       "      <td>NC</td>\n",
       "      <td>U.S. Highway 64</td>\n",
       "      <td>Exit/Intersection</td>\n",
       "      <td>3700</td>\n",
       "      <td>60.34979</td>\n",
       "      <td>1</td>\n",
       "      <td>0</td>\n",
       "      <td>0</td>\n",
       "      <td>0</td>\n",
       "      <td>34.365230</td>\n",
       "      <td>{\"x\": -84.31149165991212, \"y\": 35.014933379571...</td>\n",
       "    </tr>\n",
       "    <tr>\n",
       "      <th>2</th>\n",
       "      <td>7061</td>\n",
       "      <td>US-64_Cherokee_NC_Exit_3</td>\n",
       "      <td>-84.295528</td>\n",
       "      <td>35.013561</td>\n",
       "      <td>Cherokee</td>\n",
       "      <td>NC</td>\n",
       "      <td>U.S. Highway 64</td>\n",
       "      <td>Exit/Intersection</td>\n",
       "      <td>3900</td>\n",
       "      <td>60.34979</td>\n",
       "      <td>0</td>\n",
       "      <td>0</td>\n",
       "      <td>0</td>\n",
       "      <td>0</td>\n",
       "      <td>35.233979</td>\n",
       "      <td>{\"x\": -84.29552778977563, \"y\": 35.013560589649...</td>\n",
       "    </tr>\n",
       "    <tr>\n",
       "      <th>3</th>\n",
       "      <td>7062</td>\n",
       "      <td>US-64_Cherokee_NC_Exit_4</td>\n",
       "      <td>-84.280291</td>\n",
       "      <td>35.012880</td>\n",
       "      <td>Cherokee</td>\n",
       "      <td>NC</td>\n",
       "      <td>U.S. Highway 64</td>\n",
       "      <td>Exit/Intersection</td>\n",
       "      <td>3900</td>\n",
       "      <td>60.34979</td>\n",
       "      <td>0</td>\n",
       "      <td>0</td>\n",
       "      <td>0</td>\n",
       "      <td>0</td>\n",
       "      <td>36.048303</td>\n",
       "      <td>{\"x\": -84.28029090010494, \"y\": 35.012879950349...</td>\n",
       "    </tr>\n",
       "    <tr>\n",
       "      <th>4</th>\n",
       "      <td>7063</td>\n",
       "      <td>US-64_Cherokee_NC_Exit_5</td>\n",
       "      <td>-84.275190</td>\n",
       "      <td>35.017816</td>\n",
       "      <td>Cherokee</td>\n",
       "      <td>NC</td>\n",
       "      <td>U.S. Highway 64</td>\n",
       "      <td>Exit/Intersection</td>\n",
       "      <td>3900</td>\n",
       "      <td>60.34979</td>\n",
       "      <td>0</td>\n",
       "      <td>0</td>\n",
       "      <td>0</td>\n",
       "      <td>0</td>\n",
       "      <td>36.186597</td>\n",
       "      <td>{\"x\": -84.27519011992803, \"y\": 35.017816120417...</td>\n",
       "    </tr>\n",
       "  </tbody>\n",
       "</table>\n",
       "</div>"
      ],
      "text/plain": [
       "    FID                   Exit_ID  Longitude   Latitude    County State  \\\n",
       "0  7059  US-64_Cherokee_NC_Exit_1 -84.314304  35.019492  Cherokee    NC   \n",
       "1  7060  US-64_Cherokee_NC_Exit_2 -84.311492  35.014933  Cherokee    NC   \n",
       "2  7061  US-64_Cherokee_NC_Exit_3 -84.295528  35.013561  Cherokee    NC   \n",
       "3  7062  US-64_Cherokee_NC_Exit_4 -84.280291  35.012880  Cherokee    NC   \n",
       "4  7063  US-64_Cherokee_NC_Exit_5 -84.275190  35.017816  Cherokee    NC   \n",
       "\n",
       "           Highway               Type  AADT  Pop_dens  Comm_1mi  Ports_5mi  \\\n",
       "0  U.S. Highway 64  Exit/Intersection  3700  60.34979         1          0   \n",
       "1  U.S. Highway 64  Exit/Intersection  3700  60.34979         1          0   \n",
       "2  U.S. Highway 64  Exit/Intersection  3900  60.34979         0          0   \n",
       "3  U.S. Highway 64  Exit/Intersection  3900  60.34979         0          0   \n",
       "4  U.S. Highway 64  Exit/Intersection  3900  60.34979         0          0   \n",
       "\n",
       "   Ports_10mi  Ports_20mi  Close_nonT  \\\n",
       "0           0           0   34.094152   \n",
       "1           0           0   34.365230   \n",
       "2           0           0   35.233979   \n",
       "3           0           0   36.048303   \n",
       "4           0           0   36.186597   \n",
       "\n",
       "                                               SHAPE  \n",
       "0  {\"x\": -84.31430368976345, \"y\": 35.019491849669...  \n",
       "1  {\"x\": -84.31149165991212, \"y\": 35.014933379571...  \n",
       "2  {\"x\": -84.29552778977563, \"y\": 35.013560589649...  \n",
       "3  {\"x\": -84.28029090010494, \"y\": 35.012879950349...  \n",
       "4  {\"x\": -84.27519011992803, \"y\": 35.017816120417...  "
      ]
     },
     "execution_count": 65,
     "metadata": {},
     "output_type": "execute_result"
    }
   ],
   "source": [
    "sdfFeatures = selected_features.sdf\n",
    "sdfFeatures.head()"
   ]
  },
  {
   "cell_type": "code",
   "execution_count": 70,
   "metadata": {},
   "outputs": [
    {
     "data": {
      "text/plain": [
       "{'wkid': 4326, 'latestWkid': 4326}"
      ]
     },
     "execution_count": 70,
     "metadata": {},
     "output_type": "execute_result"
    }
   ],
   "source": [
    "sdfFeatures.spatial.sr"
   ]
  },
  {
   "cell_type": "code",
   "execution_count": 86,
   "metadata": {},
   "outputs": [
    {
     "data": {
      "text/plain": [
       "'MJBA/MJBA_exits.shp'"
      ]
     },
     "execution_count": 86,
     "metadata": {},
     "output_type": "execute_result"
    }
   ],
   "source": [
    "#Create a folder to hold the data\n",
    "import os\n",
    "os.mkdir(\"MJBA\")\n",
    "#Export the data to the folder\n",
    "sdfFeatures.spatial.to_featureclass(location='MJBA/MJBA_exits.shp')"
   ]
  },
  {
   "cell_type": "code",
   "execution_count": 87,
   "metadata": {},
   "outputs": [
    {
     "data": {
      "text/plain": [
       "'/home/jovyan/work/FetchingData/MJBA.zip'"
      ]
     },
     "execution_count": 87,
     "metadata": {},
     "output_type": "execute_result"
    }
   ],
   "source": [
    "#Zip\n",
    "from shutil import make_archive\n",
    "make_archive('MJBA','zip','MJBA')"
   ]
  },
  {
   "cell_type": "code",
   "execution_count": 64,
   "metadata": {},
   "outputs": [
    {
     "data": {
      "application/vnd.jupyter.widget-view+json": {
       "model_id": "76e5d8fdbc284ad6aa6c2aa61bdc1cdd",
       "version_major": 2,
       "version_minor": 0
      },
      "text/plain": [
       "MapView(layout=Layout(height='400px', width='100%'))"
      ]
     },
     "metadata": {},
     "output_type": "display_data"
    },
    {
     "data": {
      "text/html": [
       "<div class=\"map-static-img-preview-51769ae6-94ee-4767-b35d-ea4f47005ccd\"><img src=\"\"></img></div>"
      ],
      "text/plain": [
       "<IPython.core.display.HTML object>"
      ]
     },
     "metadata": {},
     "output_type": "display_data"
    }
   ],
   "source": [
    "theMap = gis.map('Durham, NC')\n",
    "sdfFeatures.spatial.plot(theMap)\n",
    "theMap"
   ]
  },
  {
   "cell_type": "markdown",
   "metadata": {},
   "source": [
    "## Gas Stations\n",
    "* https://services.nconemap.gov/secure/rest/services/NC1Map_Energy/MapServer/0"
   ]
  },
  {
   "cell_type": "code",
   "execution_count": 88,
   "metadata": {},
   "outputs": [],
   "source": [
    "from arcgis.features import FeatureLayer"
   ]
  },
  {
   "cell_type": "code",
   "execution_count": 89,
   "metadata": {},
   "outputs": [],
   "source": [
    "gasFeatures = FeatureLayer('https://services.nconemap.gov/secure/rest/services/NC1Map_Energy/MapServer/0')"
   ]
  },
  {
   "cell_type": "code",
   "execution_count": 92,
   "metadata": {},
   "outputs": [
    {
     "name": "stdout",
     "output_type": "stream",
     "text": [
      "OBJECTID\n",
      "OBJECTID_1\n",
      "STANDARDS_\n",
      "County\n",
      "Name\n",
      "Address\n",
      "City\n",
      "Phone\n",
      "Title\n",
      "PreWired\n",
      "Generator\n",
      "Longitude\n",
      "Latitude\n",
      "Gasoline\n",
      "Diesel\n",
      "HV_Diesel\n",
      "Kerosene\n",
      "NonHwy\n",
      "ZIP\n",
      "Type\n",
      "Shape\n"
     ]
    }
   ],
   "source": [
    "for f in gasFeatures.properties.fields: print(f.name)"
   ]
  },
  {
   "cell_type": "code",
   "execution_count": 94,
   "metadata": {},
   "outputs": [
    {
     "name": "stderr",
     "output_type": "stream",
     "text": [
      "/opt/conda/lib/python3.7/site-packages/IPython/lib/pretty.py:402: FutureWarning: 'ExtensionArray._formatting_values' is deprecated. Specify 'ExtensionArray._formatter' instead.\n",
      "  return _repr_pprint(obj, self, cycle)\n",
      "/opt/conda/lib/python3.7/site-packages/pandas/io/formats/html.py:606: FutureWarning: 'ExtensionArray._formatting_values' is deprecated. Specify 'ExtensionArray._formatter' instead.\n",
      "  super().render()\n"
     ]
    },
    {
     "data": {
      "text/html": [
       "<div>\n",
       "<style scoped>\n",
       "    .dataframe tbody tr th:only-of-type {\n",
       "        vertical-align: middle;\n",
       "    }\n",
       "\n",
       "    .dataframe tbody tr th {\n",
       "        vertical-align: top;\n",
       "    }\n",
       "\n",
       "    .dataframe thead th {\n",
       "        text-align: right;\n",
       "    }\n",
       "</style>\n",
       "<table border=\"1\" class=\"dataframe\">\n",
       "  <thead>\n",
       "    <tr style=\"text-align: right;\">\n",
       "      <th></th>\n",
       "      <th>OBJECTID</th>\n",
       "      <th>OBJECTID_1</th>\n",
       "      <th>STANDARDS_</th>\n",
       "      <th>County</th>\n",
       "      <th>Name</th>\n",
       "      <th>Address</th>\n",
       "      <th>City</th>\n",
       "      <th>Phone</th>\n",
       "      <th>Title</th>\n",
       "      <th>PreWired</th>\n",
       "      <th>...</th>\n",
       "      <th>Longitude</th>\n",
       "      <th>Latitude</th>\n",
       "      <th>Gasoline</th>\n",
       "      <th>Diesel</th>\n",
       "      <th>HV_Diesel</th>\n",
       "      <th>Kerosene</th>\n",
       "      <th>NonHwy</th>\n",
       "      <th>ZIP</th>\n",
       "      <th>Type</th>\n",
       "      <th>SHAPE</th>\n",
       "    </tr>\n",
       "  </thead>\n",
       "  <tbody>\n",
       "    <tr>\n",
       "      <th>0</th>\n",
       "      <td>1</td>\n",
       "      <td>1</td>\n",
       "      <td>19433.0</td>\n",
       "      <td>Macon</td>\n",
       "      <td>4th Street Market</td>\n",
       "      <td>545 North 4th Street</td>\n",
       "      <td>Highlands</td>\n",
       "      <td>8285264191</td>\n",
       "      <td>Unknown</td>\n",
       "      <td></td>\n",
       "      <td>...</td>\n",
       "      <td>-83.196918</td>\n",
       "      <td>35.055964</td>\n",
       "      <td>24.0</td>\n",
       "      <td>4.0</td>\n",
       "      <td>0.0</td>\n",
       "      <td>0.0</td>\n",
       "      <td>0.0</td>\n",
       "      <td>28741</td>\n",
       "      <td>Commercial</td>\n",
       "      <td>{\"x\": 226894.5777054903, \"y\": 152960.292310301...</td>\n",
       "    </tr>\n",
       "    <tr>\n",
       "      <th>1</th>\n",
       "      <td>2</td>\n",
       "      <td>2</td>\n",
       "      <td>19608.0</td>\n",
       "      <td>Mecklenburg</td>\n",
       "      <td>7-Eleven #30348</td>\n",
       "      <td>801 Wendover Rd.</td>\n",
       "      <td>Charlotte</td>\n",
       "      <td>7043642005</td>\n",
       "      <td>Convenience Store</td>\n",
       "      <td></td>\n",
       "      <td>...</td>\n",
       "      <td>-80.807186</td>\n",
       "      <td>35.185925</td>\n",
       "      <td>36.0</td>\n",
       "      <td>4.0</td>\n",
       "      <td>0.0</td>\n",
       "      <td>0.0</td>\n",
       "      <td>0.0</td>\n",
       "      <td>28211</td>\n",
       "      <td>Commercial</td>\n",
       "      <td>{\"x\": 445031.08852262166, \"y\": 160783.56405997...</td>\n",
       "    </tr>\n",
       "    <tr>\n",
       "      <th>2</th>\n",
       "      <td>3</td>\n",
       "      <td>3</td>\n",
       "      <td>19212.0</td>\n",
       "      <td>Mecklenburg</td>\n",
       "      <td>7-Eleven #35556</td>\n",
       "      <td>2601 South Blvd.</td>\n",
       "      <td>Charlotte</td>\n",
       "      <td>7045238304</td>\n",
       "      <td>Unknown</td>\n",
       "      <td></td>\n",
       "      <td>...</td>\n",
       "      <td>-80.865223</td>\n",
       "      <td>35.202306</td>\n",
       "      <td>18.0</td>\n",
       "      <td>2.0</td>\n",
       "      <td>0.0</td>\n",
       "      <td>0.0</td>\n",
       "      <td>0.0</td>\n",
       "      <td>28209</td>\n",
       "      <td>Commercial</td>\n",
       "      <td>{\"x\": 439780.7454674894, \"y\": 162698.089711206...</td>\n",
       "    </tr>\n",
       "    <tr>\n",
       "      <th>3</th>\n",
       "      <td>4</td>\n",
       "      <td>4</td>\n",
       "      <td>17263.0</td>\n",
       "      <td>Mecklenburg</td>\n",
       "      <td>7-Eleven #35577</td>\n",
       "      <td>2519 Beatties Ford Rd.</td>\n",
       "      <td>Charlotte</td>\n",
       "      <td>7049100759</td>\n",
       "      <td>Convenience Store</td>\n",
       "      <td></td>\n",
       "      <td>...</td>\n",
       "      <td>-80.854070</td>\n",
       "      <td>35.268681</td>\n",
       "      <td>24.0</td>\n",
       "      <td>4.0</td>\n",
       "      <td>0.0</td>\n",
       "      <td>1.0</td>\n",
       "      <td>0.0</td>\n",
       "      <td>28216</td>\n",
       "      <td>Commercial</td>\n",
       "      <td>{\"x\": 440933.4917083445, \"y\": 170040.779521932...</td>\n",
       "    </tr>\n",
       "    <tr>\n",
       "      <th>4</th>\n",
       "      <td>5</td>\n",
       "      <td>5</td>\n",
       "      <td>18665.0</td>\n",
       "      <td>Mecklenburg</td>\n",
       "      <td>7-Eleven #35588</td>\n",
       "      <td>10023 N. Tryon St.</td>\n",
       "      <td>Charlotte</td>\n",
       "      <td>7047902590</td>\n",
       "      <td>Unknown</td>\n",
       "      <td></td>\n",
       "      <td>...</td>\n",
       "      <td>-80.733719</td>\n",
       "      <td>35.321798</td>\n",
       "      <td>44.0</td>\n",
       "      <td>3.0</td>\n",
       "      <td>0.0</td>\n",
       "      <td>0.0</td>\n",
       "      <td>0.0</td>\n",
       "      <td>28262</td>\n",
       "      <td>Commercial</td>\n",
       "      <td>{\"x\": 451983.8742171372, \"y\": 175734.414666395...</td>\n",
       "    </tr>\n",
       "  </tbody>\n",
       "</table>\n",
       "<p>5 rows × 21 columns</p>\n",
       "</div>"
      ],
      "text/plain": [
       "   OBJECTID  OBJECTID_1  STANDARDS_       County               Name  \\\n",
       "0         1           1     19433.0        Macon  4th Street Market   \n",
       "1         2           2     19608.0  Mecklenburg    7-Eleven #30348   \n",
       "2         3           3     19212.0  Mecklenburg    7-Eleven #35556   \n",
       "3         4           4     17263.0  Mecklenburg    7-Eleven #35577   \n",
       "4         5           5     18665.0  Mecklenburg    7-Eleven #35588   \n",
       "\n",
       "                  Address       City       Phone              Title PreWired  \\\n",
       "0    545 North 4th Street  Highlands  8285264191            Unknown            \n",
       "1        801 Wendover Rd.  Charlotte  7043642005  Convenience Store            \n",
       "2        2601 South Blvd.  Charlotte  7045238304            Unknown            \n",
       "3  2519 Beatties Ford Rd.  Charlotte  7049100759  Convenience Store            \n",
       "4      10023 N. Tryon St.  Charlotte  7047902590            Unknown            \n",
       "\n",
       "   ...  Longitude   Latitude  Gasoline  Diesel  HV_Diesel  Kerosene  NonHwy  \\\n",
       "0  ... -83.196918  35.055964      24.0     4.0        0.0       0.0     0.0   \n",
       "1  ... -80.807186  35.185925      36.0     4.0        0.0       0.0     0.0   \n",
       "2  ... -80.865223  35.202306      18.0     2.0        0.0       0.0     0.0   \n",
       "3  ... -80.854070  35.268681      24.0     4.0        0.0       1.0     0.0   \n",
       "4  ... -80.733719  35.321798      44.0     3.0        0.0       0.0     0.0   \n",
       "\n",
       "     ZIP        Type                                              SHAPE  \n",
       "0  28741  Commercial  {\"x\": 226894.5777054903, \"y\": 152960.292310301...  \n",
       "1  28211  Commercial  {\"x\": 445031.08852262166, \"y\": 160783.56405997...  \n",
       "2  28209  Commercial  {\"x\": 439780.7454674894, \"y\": 162698.089711206...  \n",
       "3  28216  Commercial  {\"x\": 440933.4917083445, \"y\": 170040.779521932...  \n",
       "4  28262  Commercial  {\"x\": 451983.8742171372, \"y\": 175734.414666395...  \n",
       "\n",
       "[5 rows x 21 columns]"
      ]
     },
     "execution_count": 94,
     "metadata": {},
     "output_type": "execute_result"
    }
   ],
   "source": [
    "sdfGas = gasFeatures.query().sdf\n",
    "sdfGas.head()"
   ]
  },
  {
   "cell_type": "code",
   "execution_count": 98,
   "metadata": {},
   "outputs": [
    {
     "data": {
      "text/plain": [
       "'/home/jovyan/work/FetchingData/GasStations.zip'"
      ]
     },
     "execution_count": 98,
     "metadata": {},
     "output_type": "execute_result"
    }
   ],
   "source": [
    "os.mkdir('GasStations')\n",
    "sdfGas.spatial.to_featureclass(location='GasStations/GasStations.shp')\n",
    "make_archive('GasStations','zip','GasStations')"
   ]
  },
  {
   "cell_type": "code",
   "execution_count": 96,
   "metadata": {},
   "outputs": [
    {
     "data": {
      "text/plain": [
       "True"
      ]
     },
     "execution_count": 96,
     "metadata": {},
     "output_type": "execute_result"
    }
   ],
   "source": [
    "sdfGas.spatial.plot(theMap)"
   ]
  }
 ],
 "metadata": {
  "kernelspec": {
   "display_name": "Python 3",
   "language": "python",
   "name": "python3"
  },
  "language_info": {
   "codemirror_mode": {
    "name": "ipython",
    "version": 3
   },
   "file_extension": ".py",
   "mimetype": "text/x-python",
   "name": "python",
   "nbconvert_exporter": "python",
   "pygments_lexer": "ipython3",
   "version": "3.7.3"
  }
 },
 "nbformat": 4,
 "nbformat_minor": 2
}
