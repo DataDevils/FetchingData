{
 "cells": [
  {
   "cell_type": "markdown",
   "metadata": {},
   "source": [
    "## DEMO: Finding all NC highway segments within 1500 m of a restaurant\n",
    "This script demonstrates how Python can fetch data from OpenStreetMap to reveal which sections of major roads in North Carolina occur within 1.5 km of a restaurant. \n",
    "\n",
    "The workflow for this analysis is as follows:\n",
    "* Fetch NC highways as a graph (save as GraphML) \n",
    " * Create a spatial dataframe of North Carolina using `osmnx`'s `gdf_from_place()` function\n",
    " * Extract the geometric shape from this geodataframe, used as the boundary to query OSM data.\n",
    " * Fetch \"motorways\" found within this shape.\n",
    "* Convert the result (a graph object) into a geodataframe\n",
    " * Save the geodataframe as a shapefile (for later use)\n",
    "* Buffer road features 1500m \n",
    " * Extract the geometries as a geoseries object\n",
    " * Applt the `to_crs()` function to tranform the coordinate reference system from WGS 84 to UTM Zone 17N\n",
    " * Apply the `buffer` command to the buffer "
   ]
  },
  {
   "cell_type": "code",
   "execution_count": null,
   "metadata": {},
   "outputs": [],
   "source": [
    "#Import osmnx package\n",
    "import osmnx as ox\n",
    "import geopandas as gpd"
   ]
  },
  {
   "cell_type": "code",
   "execution_count": null,
   "metadata": {},
   "outputs": [],
   "source": [
    "#Create a geodataframe of triangle counties\n",
    "aoi_gdf = ox.gdf_from_places(['Durham County, NC',\n",
    "                              'Chatham County, NC',\n",
    "                              'Orange County, NC',\n",
    "                              'Wake County, NC'])"
   ]
  },
  {
   "cell_type": "code",
   "execution_count": null,
   "metadata": {},
   "outputs": [],
   "source": [
    "aoi_gdf.plot('place_name');"
   ]
  },
  {
   "cell_type": "code",
   "execution_count": null,
   "metadata": {},
   "outputs": [],
   "source": [
    "#Dissolve all shapes into one\n",
    "aoi_poly = aoi_gdf.geometry.unary_union\n",
    "aoi_poly"
   ]
  },
  {
   "cell_type": "code",
   "execution_count": null,
   "metadata": {},
   "outputs": [],
   "source": [
    "#Fetch highways in within the polygon\n",
    "hwy_graph = ox.graph_from_polygon(aoi_poly,  \n",
    "                                  network_type='drive',\n",
    "                                  simplify=True,\n",
    "                                  retain_all=False,\n",
    "                                  truncate_by_edge=True,\n",
    "                                  infrastructure='way[\"highway\"~\"motorway\"]')"
   ]
  },
  {
   "cell_type": "code",
   "execution_count": null,
   "metadata": {},
   "outputs": [],
   "source": [
    "#Convert graph to a pair of geodataframe (edges and nodes)\n",
    "gdf_nodes, gdf_edges = ox.graph_to_gdfs(hwy_graph)"
   ]
  },
  {
   "cell_type": "code",
   "execution_count": null,
   "metadata": {},
   "outputs": [],
   "source": [
    "#Plot\n",
    "ax = aoi_gdf.plot(alpha=0.4,figsize=(10,7))\n",
    "gdf_edges.plot(ax = ax, color='red');"
   ]
  },
  {
   "cell_type": "code",
   "execution_count": null,
   "metadata": {},
   "outputs": [],
   "source": [
    "#Project the dataset to UTM Zone 17N\n",
    "gdf_edges_utm = gdf_edges.to_crs(epsg=32617)\n",
    "gdf_edges_utm.plot();"
   ]
  },
  {
   "cell_type": "code",
   "execution_count": null,
   "metadata": {},
   "outputs": [],
   "source": [
    "#Buffer, transform, and dissolve the roads\n",
    "hwy_buffer = (gdf_edges_utm.geometry\n",
    "              .buffer(1500)\n",
    "              .to_crs(4326)\n",
    "              .unary_union)"
   ]
  },
  {
   "cell_type": "code",
   "execution_count": null,
   "metadata": {},
   "outputs": [],
   "source": [
    "#Plot\n",
    "hwy_buffer"
   ]
  },
  {
   "cell_type": "code",
   "execution_count": null,
   "metadata": {},
   "outputs": [],
   "source": [
    "#Fetch restaurants falling within the road buffer\n",
    "nc_food = ox.pois.create_poi_gdf(polygon=hwy_buffer,amenities=['restaurant'])"
   ]
  },
  {
   "cell_type": "code",
   "execution_count": null,
   "metadata": {},
   "outputs": [],
   "source": [
    "import contextily as ctx\n",
    "ax = gdf_edges_utm.to_crs(epsg=3857).plot(alpha=0.1,figsize=(10,10))\n",
    "nc_food.geometry.to_crs(epsg=3857).plot(ax = ax,color='red')\n",
    "ctx.add_basemap(ax)"
   ]
  },
  {
   "cell_type": "code",
   "execution_count": null,
   "metadata": {},
   "outputs": [],
   "source": [
    "#Buffer restaurants\n",
    "nc_food_1500m = (nc_food.to_crs(epsg=32617)\n",
    "                 .buffer(1500)\n",
    "                 .to_crs(4326))\n",
    "#Plot\n",
    "nc_food_1500m.plot();"
   ]
  },
  {
   "cell_type": "code",
   "execution_count": null,
   "metadata": {},
   "outputs": [],
   "source": [
    "gdf_Food = gpd.GeoDataFrame(geometry=nc_food_1500m)"
   ]
  },
  {
   "cell_type": "code",
   "execution_count": null,
   "metadata": {},
   "outputs": [],
   "source": [
    "#Clip roads\n",
    "roads_clip = gpd.overlay(gdf_edges,gdf_Food,how='intersection')"
   ]
  },
  {
   "cell_type": "code",
   "execution_count": null,
   "metadata": {},
   "outputs": [],
   "source": [
    "ax = roads_clip.plot(figsize=(20,20))\n",
    "nc_food.plot(ax=ax,color='red',);"
   ]
  },
  {
   "cell_type": "code",
   "execution_count": null,
   "metadata": {},
   "outputs": [],
   "source": []
  }
 ],
 "metadata": {
  "kernelspec": {
   "display_name": "Python 3",
   "language": "python",
   "name": "python3"
  },
  "language_info": {
   "codemirror_mode": {
    "name": "ipython",
    "version": 3
   },
   "file_extension": ".py",
   "mimetype": "text/x-python",
   "name": "python",
   "nbconvert_exporter": "python",
   "pygments_lexer": "ipython3",
   "version": "3.7.3"
  }
 },
 "nbformat": 4,
 "nbformat_minor": 2
}
