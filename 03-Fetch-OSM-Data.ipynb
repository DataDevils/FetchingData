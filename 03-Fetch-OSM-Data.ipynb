{
 "cells": [
  {
   "cell_type": "markdown",
   "metadata": {},
   "source": [
    "## Fetch Open Street Map (OSM) data\n",
    "\n",
    "► *This procedure is based on the University of Helskinki tutorial ([LINK](https://automating-gis-processes.github.io/site/notebooks/L6/retrieve_osm_data.html)) and the OSMNX documentation site ([LINK](https://geoffboeing.com/2016/11/osmnx-python-street-networks/))*\n",
    "\n",
    "OpenStreetMap (OSM) is a global collaborative (crowd-sourced) dataset and project that aims at creating a free editable map of the world containing a lot of information about our environment. It contains data for example about streets, buildings, different services, and landuse to mention a few. You can view the map at www.openstreetmap.org. You can also sign up as a contributor if you want to edit the map.\n",
    "\n",
    "OSM has a large userbase with more than 4 million users and over a million contributers that update actively the OSM database with 3 million changesets per day. In total OSM contains 5 billion nodes that form the basis of the digitally mapped world that OSM provides (stats from November 2019).\n",
    "\n",
    "OpenStreetMap is used not only for integrating the OSM maps as background maps to visualizations or online maps, but also for many other purposes such as routing, geocoding, education, and research. OSM is also widely used for humanitarian response e.g. in crisis areas (e.g. after natural disasters) and for fostering economic development (see more from Humanitarian OpenStreetMap Team (HOTOSM) website).\n",
    "\n",
    "The `osmnx` package is an invaluable tool for extracting data from OSM. ([Read more...](https://geoffboeing.com/2016/11/osmnx-python-street-networks/). It works by defining an area, which can be done easily with its build in geocoder, and using that area to extract features into a [GeoPandas](https://geopandas.org/) [geodataframe](https://geopandas.org/data_structures.html) or as a [NetworkX](https://networkx.github.io/documentation/stable/) [graph](https://networkx.github.io/documentation/stable/reference/introduction.html#graphs) object (both of which we will discuss later). "
   ]
  },
  {
   "cell_type": "markdown",
   "metadata": {},
   "source": [
    "### Importing packages\n",
    "* It all begins with importing the osmnx and matplotib plotting libraries"
   ]
  },
  {
   "cell_type": "code",
   "execution_count": null,
   "metadata": {},
   "outputs": [],
   "source": [
    "#Import the osmnx library\n",
    "import osmnx as ox\n",
    "\n",
    "#Import matplotlib's plotting library\n",
    "import matplotlib.pyplot as plt\n",
    "\n",
    "#Configure Jupyter to show plots in the document itself\n",
    "%matplotlib inline"
   ]
  },
  {
   "cell_type": "markdown",
   "metadata": {},
   "source": [
    "### Set the analysis extent\n",
    "* We begin by establishing our area of interest. This is a Shapely geometry object that defines the spatial extent of the OSM data we extract. The osmnx's `gdf_from_place()` geocodes a place name, storing the results in a geodataframe. Ultimately, we'll want to do all of North Carolina, but to speed things up, we'll just do a single county. "
   ]
  },
  {
   "cell_type": "code",
   "execution_count": null,
   "metadata": {},
   "outputs": [],
   "source": [
    "#Create a geodataframe of Durham County\n",
    "durm_area = ox.gdf_from_place(\"Durham County, NC\")\n",
    "type(durm_area)"
   ]
  },
  {
   "cell_type": "code",
   "execution_count": null,
   "metadata": {},
   "outputs": [],
   "source": [
    "#Examine the resulting geodataframe\n",
    "durm_area.head()"
   ]
  },
  {
   "cell_type": "code",
   "execution_count": null,
   "metadata": {},
   "outputs": [],
   "source": [
    "#Plot the resulting dataframe\n",
    "durm_area.plot();"
   ]
  },
  {
   "cell_type": "markdown",
   "metadata": {},
   "source": [
    "* The osmnx functions we'll use require a Shapely geometry object, not a geodataframe, so we'll extract the one and only shape - stored in the geodataframe's `geometry` column - into a new variable. "
   ]
  },
  {
   "cell_type": "markdown",
   "metadata": {},
   "source": [
    "> We'll talk about geodataframes and shapely geometry objects in more detail next week"
   ]
  },
  {
   "cell_type": "code",
   "execution_count": null,
   "metadata": {},
   "outputs": [],
   "source": [
    "#Extract the shapely polygon from the returned DF\n",
    "durm_poly = durm_area.at[0,'geometry']"
   ]
  },
  {
   "cell_type": "code",
   "execution_count": null,
   "metadata": {},
   "outputs": [],
   "source": [
    "#Display the shape\n",
    "durm_poly"
   ]
  },
  {
   "cell_type": "markdown",
   "metadata": {},
   "source": [
    "### Fetch amenities\n",
    "Next, we'll fetch a set of amenities falling within our Shapely polygon. The steps here include:\n",
    "* Examine the list of amenities: https://wiki.openstreetmap.org/wiki/Key:amenity\n",
    "* Construct a Python list of the amenities you want to extract\n",
    "* Search for these amenities using the `ox.create_poi_gdf()` function, returning the results as a geodataframe..."
   ]
  },
  {
   "cell_type": "code",
   "execution_count": null,
   "metadata": {},
   "outputs": [],
   "source": [
    "#Create a Python list of all the amenities we want to find \n",
    "amenities_list = ['cafe','restaurant']"
   ]
  },
  {
   "cell_type": "code",
   "execution_count": null,
   "metadata": {},
   "outputs": [],
   "source": [
    "#Use the `pois.create_poi_gdf() function to extract amenities within our polygon\n",
    "durm_amenities = ox.pois.create_poi_gdf(polygon=durm_poly,amenities=amenities_list)\n",
    "type(durm_amenities)"
   ]
  },
  {
   "cell_type": "code",
   "execution_count": null,
   "metadata": {},
   "outputs": [],
   "source": [
    "#Reveal how many features were extracted\n",
    "len(durm_amenities)"
   ]
  },
  {
   "cell_type": "code",
   "execution_count": null,
   "metadata": {},
   "outputs": [],
   "source": [
    "#Have a peek\n",
    "durm_amenities.head()"
   ]
  },
  {
   "cell_type": "code",
   "execution_count": null,
   "metadata": {},
   "outputs": [],
   "source": [
    "#Save to csv file\n",
    "durm_amenities.to_csv(\"Durham_Amenities.csv\",index=False)"
   ]
  },
  {
   "cell_type": "code",
   "execution_count": null,
   "metadata": {},
   "outputs": [],
   "source": [
    "#Plot the sites on a map\n",
    "fig, ax = plt.subplots(figsize=(12,8))\n",
    "durm_amenities.to_crs(epsg=3857).plot(ax=ax)\n",
    "import contextily as ctx\n",
    "ctx.add_basemap(ax)"
   ]
  },
  {
   "cell_type": "markdown",
   "metadata": {},
   "source": [
    "### Fetch roads - as a graph\n",
    "The `osmnx` package has another function - [`graph_from_polygon`](https://osmnx.readthedocs.io/en/stable/osmnx.html#osmnx.core.graph_from_place) - that downloads features as a graph. \n",
    "Next, we examine how we can fetch graph data from OSM. \n",
    "https://github.com/gboeing/osmnx-examples/blob/master/notebooks/00-osmnx-features-demo.ipynb"
   ]
  },
  {
   "cell_type": "code",
   "execution_count": null,
   "metadata": {},
   "outputs": [],
   "source": [
    "#Fetch highways as \n",
    "highways = ox.graph_from_polygon(durm_poly,  \n",
    "                                 network_type='drive',\n",
    "                                 simplify=True,\n",
    "                                 retain_all=False,\n",
    "                                 truncate_by_edge=True,\n",
    "                                 infrastructure='way[\"highway\"~\"motorway\"]')"
   ]
  },
  {
   "cell_type": "code",
   "execution_count": null,
   "metadata": {},
   "outputs": [],
   "source": [
    "#Check the data type of the new object\n",
    "type(highways)"
   ]
  },
  {
   "cell_type": "code",
   "execution_count": null,
   "metadata": {},
   "outputs": [],
   "source": [
    "#Create a folder to hold the OSM data (if it doesn't exist already)\n",
    "import os\n",
    "if not os.path.exists('osm_data'): os.mkdir('osm_data')"
   ]
  },
  {
   "cell_type": "code",
   "execution_count": null,
   "metadata": {},
   "outputs": [],
   "source": [
    "#Save the graph as a \"graphml\" file\n",
    "ox.save_graphml(highways,filename=\"Durham_road_net.graphml\",folder='osm_data')"
   ]
  },
  {
   "cell_type": "code",
   "execution_count": null,
   "metadata": {},
   "outputs": [],
   "source": [
    "#Convert to shapefile\n",
    "ox.save_load.save_graph_shapefile(highways,filename='DurhamRoads.shp',folder='osm_data')"
   ]
  },
  {
   "cell_type": "code",
   "execution_count": null,
   "metadata": {},
   "outputs": [],
   "source": [
    "#Zip the folder\n",
    "import shutil\n",
    "shutil.make_archive('DurhamRoads','zip','osm_data')"
   ]
  },
  {
   "cell_type": "markdown",
   "metadata": {},
   "source": [
    "Read in the graph, project it and display it. "
   ]
  },
  {
   "cell_type": "code",
   "execution_count": null,
   "metadata": {},
   "outputs": [],
   "source": [
    "#Read the graph file back in as a graph\n",
    "durm_graph = ox.save_load.load_graphml('Durham_road_net.graphml',folder='osm_data')"
   ]
  },
  {
   "cell_type": "code",
   "execution_count": null,
   "metadata": {},
   "outputs": [],
   "source": [
    "fig, ax = ox.plot_graph(durm_graph)"
   ]
  }
 ],
 "metadata": {
  "kernelspec": {
   "display_name": "Python 3",
   "language": "python",
   "name": "python3"
  },
  "language_info": {
   "codemirror_mode": {
    "name": "ipython",
    "version": 3
   },
   "file_extension": ".py",
   "mimetype": "text/x-python",
   "name": "python",
   "nbconvert_exporter": "python",
   "pygments_lexer": "ipython3",
   "version": "3.7.3"
  }
 },
 "nbformat": 4,
 "nbformat_minor": 2
}
