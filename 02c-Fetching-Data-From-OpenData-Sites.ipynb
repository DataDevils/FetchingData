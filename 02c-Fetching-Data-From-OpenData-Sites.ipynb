{
 "cells": [
  {
   "cell_type": "markdown",
   "metadata": {},
   "source": [
    "## Fetch HIFLD Data\n",
    "The Homeland Infrastructure Foundation-Level Data (HIFLD) has an Open Data platform providing access to numerous useful datasets. Here we explore how to download those datasets via the ArcGIS Python API.\n",
    "\n",
    "If you navigate to the [HIFLD Open Data site](https://hifld-geoplatform.opendata.arcgis.com/) and search for \"Electric Substations\", you'll be taken to the Electric Substations Open Data access point: https://hifld-geoplatform.opendata.arcgis.com/datasets/electric-substations. Here, you'll see links to download the dataset in a choice of formats; you'll also see a link for the dataset's GeoService and GeoJSON APIs. The **GeoService API** is the ESRI REST endpoint for the data, a gateway for interacting or downloading the data. The **GeoJSON API** link will allow you to download the dataset directly in GeoJSON format. \n",
    "\n",
    "The code below outlines the steps for accessing the data via the GeoService API as it is more flexible, allowing us to query specific records if we want. First, however, we need to gather a bit of information from the GeoService API site:"
   ]
  },
  {
   "cell_type": "markdown",
   "metadata": {},
   "source": [
    "### Navigating an GeoService API link\n",
    "* Open the GeoService API [link](https://services1.arcgis.com/Hp6G80Pky0om7QvQ/arcgis/rest/services/Electric_Substations_1/FeatureServer/0/query?outFields=*&where=1%3D1). \n",
    " * *This site is an executed query of the data listing all the features. We want to back up a bit...*\n",
    "* At the top of the page are the sequence of links leading up to this query. Navigate backwards to the [Substations](https://services1.arcgis.com/Hp6G80Pky0om7QvQ/ArcGIS/rest/services/Electric_Substations_1/FeatureServer/0) link. \n",
    " * This page shows information about the substations' **feature layer service**, revealing some useful information about the geoservice. \n",
    " * Take note of the URL of this page. We can use this URL to access the data in Python using the ArcGIS Python API."
   ]
  },
  {
   "cell_type": "code",
   "execution_count": 1,
   "metadata": {},
   "outputs": [
    {
     "name": "stderr",
     "output_type": "stream",
     "text": [
      "/opt/conda/lib/python3.7/site-packages/arcgis/features/_data/geodataset/utils.py:16: FutureWarning: The pandas.datetime class is deprecated and will be removed from pandas in a future version. Import from datetime module instead.\n",
      "  pd.datetime,\n"
     ]
    }
   ],
   "source": [
    "#Import the arcgis FeatureLayer class\n",
    "from arcgis.features import FeatureLayer"
   ]
  },
  {
   "cell_type": "code",
   "execution_count": 2,
   "metadata": {},
   "outputs": [],
   "source": [
    "#Create a FeatureLayer object, using the feature layer service's URL\n",
    "serviceURL = 'https://services1.arcgis.com/Hp6G80Pky0om7QvQ/ArcGIS/rest/services/Electric_Substations_1/FeatureServer/0'\n",
    "substations_Layer = FeatureLayer(theURL)"
   ]
  },
  {
   "cell_type": "markdown",
   "metadata": {},
   "source": [
    "The [FeatureLayer object](https://developers.arcgis.com/python/api-reference/arcgis.features.toc.html#featurelayer) allows us to interact with the features. Our objective here is (1) to subset those substations falling within North Carolina, and then (2) save those records to a local shapefile. \n",
    "\n",
    "To subset the records, it helps to find out what fields are included in the feature layer, find what unique values are contained in that field, and then set up a query to extract the records we want in that dataset. Below are code examples showing how that's done. "
   ]
  },
  {
   "cell_type": "code",
   "execution_count": 13,
   "metadata": {},
   "outputs": [
    {
     "name": "stdout",
     "output_type": "stream",
     "text": [
      "24\n"
     ]
    }
   ],
   "source": [
    "#Get a list fields \n",
    "allFields = substations_Layer.properties.fields\n",
    "print(len(allFields))"
   ]
  },
  {
   "cell_type": "code",
   "execution_count": 14,
   "metadata": {},
   "outputs": [
    {
     "name": "stdout",
     "output_type": "stream",
     "text": [
      "OBJECTID\n",
      "ID\n",
      "NAME\n",
      "CITY\n",
      "STATE\n",
      "ZIP\n",
      "TYPE\n",
      "STATUS\n",
      "COUNTY\n",
      "COUNTYFIPS\n",
      "COUNTRY\n",
      "LATITUDE\n",
      "LONGITUDE\n",
      "NAICS_CODE\n",
      "NAICS_DESC\n",
      "SOURCE\n",
      "SOURCEDATE\n",
      "VAL_METHOD\n",
      "VAL_DATE\n",
      "LINES\n",
      "MAX_VOLT\n",
      "MIN_VOLT\n",
      "MAX_INFER\n",
      "MIN_INFER\n"
     ]
    }
   ],
   "source": [
    "#Now loop through each field in the \"allFields\" list and printing the field's name\n",
    "for field in allFields:\n",
    "    print(field.name)"
   ]
  },
  {
   "cell_type": "markdown",
   "metadata": {},
   "source": [
    "We see that one of the fields is `STATE`. Let's see how each state name is listed in this dataset."
   ]
  },
  {
   "cell_type": "code",
   "execution_count": 16,
   "metadata": {},
   "outputs": [
    {
     "name": "stdout",
     "output_type": "stream",
     "text": [
      "['TX', 'KS', 'PA', 'WI', 'DE', 'AB', 'IN', 'IL', 'NH', 'BC', 'MD', 'DC', 'CO', 'MI', 'VA', 'ME', 'AK', 'SC', 'RI', 'GU', 'WA', 'MA', 'MP', 'NV', 'NY', 'OH', 'VI', 'SD', 'CT', 'LA', 'NJ', 'MO', 'OR', 'CA', 'MN', 'MT', 'OK', 'PR', 'FL', 'AR', 'IA', 'VT', 'AL', 'ND', 'ID', 'GA', 'AZ', 'MS', 'TN', 'NC', 'NE', 'WV', 'WY', 'HI', 'SK', 'NM', 'KY', 'UT']\n"
     ]
    }
   ],
   "source": [
    "#List the unique values of the STATE field\n",
    "print(substations_Layer.get_unique_values('STATE'))"
   ]
  },
  {
   "cell_type": "markdown",
   "metadata": {},
   "source": [
    "So, states are listed as their two digit abbreviation. Now we can create our query to subset only records that fall within North Carolina. "
   ]
  },
  {
   "cell_type": "code",
   "execution_count": 17,
   "metadata": {},
   "outputs": [],
   "source": [
    "#Subset North Carolina features\n",
    "nc_Substations = substations_Layer.query(\"STATE = 'NC'\")"
   ]
  },
  {
   "cell_type": "code",
   "execution_count": 19,
   "metadata": {},
   "outputs": [
    {
     "data": {
      "text/plain": [
       "arcgis.features.feature.FeatureSet"
      ]
     },
     "execution_count": 19,
     "metadata": {},
     "output_type": "execute_result"
    }
   ],
   "source": [
    "#Reveal the type of feature returned\n",
    "type(nc_Substations)"
   ]
  },
  {
   "cell_type": "markdown",
   "metadata": {},
   "source": [
    "The result of our query is a new type of object, a [FeatureSet](https://developers.arcgis.com/python/api-reference/arcgis.features.toc.html#featureset). The FeatureSet can easily be converted to a [Spatial Dataframe](https://developers.arcgis.com/python/api-reference/arcgis.features.toc.html#spatialdataframe) (via the [sdf](https://developers.arcgis.com/python/api-reference/arcgis.features.toc.html#arcgis.features.FeatureSet.sdf) function, which, in turn, as a function [to_featureclass](https://developers.arcgis.com/python/api-reference/arcgis.features.toc.html#arcgis.features.SpatialDataFrame.to_featureclass) that exports the data as a shapefile. "
   ]
  },
  {
   "cell_type": "code",
   "execution_count": 20,
   "metadata": {},
   "outputs": [],
   "source": [
    "nc_Substations_sdf = nc_Substations.sdf"
   ]
  },
  {
   "cell_type": "code",
   "execution_count": 21,
   "metadata": {},
   "outputs": [
    {
     "name": "stderr",
     "output_type": "stream",
     "text": [
      "/opt/conda/lib/python3.7/site-packages/IPython/core/oinspect.py:601: FutureWarning: 'ExtensionArray._formatting_values' is deprecated. Specify 'ExtensionArray._formatter' instead.\n",
      "  info = self._info(obj, oname=oname, info=info, detail_level=detail_level)\n"
     ]
    }
   ],
   "source": [
    "nc_Substations_sdf.spatial.to_featureclass(location=)"
   ]
  },
  {
   "cell_type": "code",
   "execution_count": 1,
   "metadata": {},
   "outputs": [
    {
     "name": "stdout",
     "output_type": "stream",
     "text": [
      "1.6.2\n"
     ]
    }
   ],
   "source": [
    "import arcgis\n",
    "print(arcgis.__version__)"
   ]
  },
  {
   "cell_type": "code",
   "execution_count": null,
   "metadata": {},
   "outputs": [],
   "source": []
  }
 ],
 "metadata": {
  "kernelspec": {
   "display_name": "Python 3",
   "language": "python",
   "name": "python3"
  },
  "language_info": {
   "codemirror_mode": {
    "name": "ipython",
    "version": 3
   },
   "file_extension": ".py",
   "mimetype": "text/x-python",
   "name": "python",
   "nbconvert_exporter": "python",
   "pygments_lexer": "ipython3",
   "version": "3.7.3"
  }
 },
 "nbformat": 4,
 "nbformat_minor": 2
}
