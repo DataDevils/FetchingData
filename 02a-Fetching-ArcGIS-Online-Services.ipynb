{
 "cells": [
  {
   "cell_type": "markdown",
   "metadata": {},
   "source": [
    "# Fetching data from ArcGIS Online\n",
    "\n",
    "### The ArcGIS Python API\n",
    "The **ArcGIS Python API** is a powerful Python package for interacting with ArcGIS Online resources. ESRI provides ample documentation on this tool here: https://developers.arcgis.com/python/. Here, we'll use the API to <u>download MJB&A's exit data to a local shapefile</u>. \n",
    "\n",
    "We certainly won't have time to explore all this technology has to offer, but we will get at least a sample of what it can do. To explore further more effectively, I suggest you spend a bit of time familairizing yourself with the structure of the help documentation. \n",
    "\n",
    "<div class=\"alert alert-info\">\n",
    "Like many well-documented APIs, the documentation comes in three sections: a <A HREF=https://developers.arcgis.com/python/guide/>guide</a>, some <A HREF=https://developers.arcgis.com/python/sample-notebooks>example notebooks</a> and an <A HREF=https://developers.arcgis.com/python/api-reference/>API reference page</a>. I recommend starting by perusing the guide, to get a feel for just what the API's capabilities are, then perhaps run through some examples and tinker with them. Use the API reference to look up specific what specific programming objects can do. And don't forget that Googleing/StackExchange can be useful resources as well...\n",
    "<div>"
   ]
  },
  {
   "cell_type": "markdown",
   "metadata": {},
   "source": [
    "### Finding content with the ArcGIS Python API\n",
    "One of the key features of the ArcGIS Python API is its ability to find resources located on ArcGIS Online. Previously, we examined how we can search ArcGIS Online resources from with ArcGIS Pro; here we do a similar search using the API. However, when used from within Python, we have direct access to the data in our Python environment which can be useful. \n",
    "\n",
    "Here we will review the process for locating, retrieving, and saving a spatial data sets using the ArcGIS Python API. A more in-depth tutorial on this topic can be found here: https://developers.arcgis.com/python/guide/accessing-and-creating-content, but we cover the basic workflow: \n",
    "\n",
    "#### Basic workflow:\n",
    "1. Import the Python packages that give us the functionality we need\n",
    " * Here we also create a link to ArcGIS Online by creating a [GIS object](https://developers.arcgis.com/python/guide/using-the-gis/#Using-the-GIS)\n",
    "* Search for content, storing the results of that search as a Python list of ArcGIS \"**Items**\"\n",
    "* Select the specific **Item** we want to use and exploring its content\n",
    "* Create a **FeatureLayer** object from that Item\n",
    "* Query records from that FeatureLayer into a **FeatureSet** object\n",
    "* Convert those records into a **SpatialDataFrame**\n",
    "* Export that SpatialDataFrame to a local Shapefile"
   ]
  },
  {
   "cell_type": "code",
   "execution_count": null,
   "metadata": {},
   "outputs": [],
   "source": [
    "#Import the arcgis GIS module - used to search AGOL for content\n",
    "from arcgis import GIS\n",
    "\n",
    "#Import the pandas package - used to work with our spatial dataframe\n",
    "import pandas as pd"
   ]
  },
  {
   "cell_type": "markdown",
   "metadata": {},
   "source": [
    "\\[*You may get a warning about a deprecating package; you can ignore that...*]"
   ]
  },
  {
   "cell_type": "code",
   "execution_count": null,
   "metadata": {},
   "outputs": [],
   "source": [
    "#Create an instance of the GIS object\n",
    "gis = GIS()"
   ]
  },
  {
   "cell_type": "markdown",
   "metadata": {},
   "source": [
    "### ♦ Searching for content\n",
    "The ArcGIS Python API's [gis module](https://developers.arcgis.com/python/guide/the-gis-module/) allows us to interact with ArcGIS Online content. A subcomponent of this module is the `gis.content` object, referred to as the \"Content Manager\"; it provides the functionality to interact with content stored on ArcGIS Online. We'll use it here to search for content. \n",
    "* A fuller example of searching for content:  https://developers.arcgis.com/python/guide/accessing-and-creating-content/#Searching-for-content\n",
    "* API reference for the `gis.content` object is [here](https://developers.arcgis.com/python/api-reference/arcgis.gis.toc.html#contentmanager)\n",
    " * [Scroll down](https://developers.arcgis.com/python/api-reference/arcgis.gis.toc.html#arcgis.gis.ContentManager.search) to find the API reference specific top the `gis.content.search()` function...\n",
    " * The `query` parameter reflects exactly what you might put into the Portal search box in ArcGIS Pro.\n",
    " * →*What is the default for the `max_items` parameter?*"
   ]
  },
  {
   "cell_type": "code",
   "execution_count": null,
   "metadata": {},
   "outputs": [],
   "source": [
    "#Use the gis object to search content, storing the results as a variable called \"results\"\n",
    "results = gis.content.search(query='NC exits 2019 owner:lukehellgren1')"
   ]
  },
  {
   "cell_type": "code",
   "execution_count": null,
   "metadata": {},
   "outputs": [],
   "source": [
    "#Reveal how many \"hits\" we got\n",
    "len(results)"
   ]
  },
  {
   "cell_type": "markdown",
   "metadata": {},
   "source": [
    "---\n",
    "<div class=\"alert alert-info\">\n",
    "► TO TRY: Try some different search terms and see how many hits you get. Try changing the <code>max_items</code> value to see if it is limiting the number of items returned.\n",
    "</div>"
   ]
  },
  {
   "cell_type": "code",
   "execution_count": null,
   "metadata": {},
   "outputs": [],
   "source": [
    "#Use the gis object to search content, storing the results as a variable called \"results\"\n",
    "results2 = gis.content.search(query='',\n",
    "                              max_items = 10)\n",
    "len(results2)"
   ]
  },
  {
   "cell_type": "markdown",
   "metadata": {},
   "source": [
    "---\n",
    "Now, we'll examine the items returned in the \"results\" list.."
   ]
  },
  {
   "cell_type": "code",
   "execution_count": null,
   "metadata": {},
   "outputs": [],
   "source": [
    "#Show the list of results\n",
    "results"
   ]
  },
  {
   "cell_type": "code",
   "execution_count": null,
   "metadata": {},
   "outputs": [],
   "source": [
    "#Extract the first item in the results list to the variable \"theItem\"\n",
    "theItem = results[0]"
   ]
  },
  {
   "cell_type": "code",
   "execution_count": null,
   "metadata": {},
   "outputs": [],
   "source": [
    "#Determine the data type of the \"item\" object\n",
    "type(theItem)"
   ]
  },
  {
   "cell_type": "markdown",
   "metadata": {},
   "source": [
    "We just create an ArcGIS \"[item]()https://developers.arcgis.com/python/api-reference/arcgis.gis.toc.html#item\" object. This item is our link to a specific resource stored on some ArcGIS Online server. We can show a number of properties associated with this item. \n",
    ">An arcgis `item` refers to a specific AGOL service. Here it's a *feature* service, but it could also be a *map* service, an *image* service, or another service type. Different service types have different capabilities; the code we show below may be particular to feature services only. "
   ]
  },
  {
   "cell_type": "code",
   "execution_count": null,
   "metadata": {},
   "outputs": [],
   "source": [
    "#Show the item\n",
    "theItem"
   ]
  },
  {
   "cell_type": "code",
   "execution_count": null,
   "metadata": {},
   "outputs": [],
   "source": [
    "#Show the type of service this is\n",
    "theItem.type"
   ]
  },
  {
   "cell_type": "code",
   "execution_count": null,
   "metadata": {},
   "outputs": [],
   "source": [
    "#Show the item's title\n",
    "theItem.title"
   ]
  },
  {
   "cell_type": "code",
   "execution_count": null,
   "metadata": {},
   "outputs": [],
   "source": [
    "#Show the item's unique id\n",
    "theItem.id"
   ]
  },
  {
   "cell_type": "code",
   "execution_count": null,
   "metadata": {},
   "outputs": [],
   "source": [
    "#Show where the item is stored, i.e., its URL\n",
    "print(theItem.url)"
   ]
  },
  {
   "cell_type": "markdown",
   "metadata": {},
   "source": [
    "If you open the link above, you'll see the **REST endpoint** of the service which reveals information about the service includng what **layers** or **tables** (if any) are associated with the service. Here we see ours has one layer. We can also get this information via Python, as shown below. "
   ]
  },
  {
   "cell_type": "code",
   "execution_count": null,
   "metadata": {},
   "outputs": [],
   "source": [
    "#Show the layers associated with the item\n",
    "theItem.layers"
   ]
  },
  {
   "cell_type": "code",
   "execution_count": null,
   "metadata": {},
   "outputs": [],
   "source": [
    "#Extract the one (and only) layer into a new variable\n",
    "layer = theItem.layers[0]\n",
    "type(layer)"
   ]
  },
  {
   "cell_type": "markdown",
   "metadata": {},
   "source": [
    "Now we have a new object - an ArcGIS [FeatureLayer](https://developers.arcgis.com/python/api-reference/arcgis.features.toc.html#featurelayer) object. \n",
    ">The `FeatureLayer` object is a link to an actual spatial dataset hosted on ArcGIS Online.\n",
    "\n",
    "We are getting closer to the actual data object. The FeatureLayer's properties are accessed by calling it's 'properties' property. 'fields' is one property. Below we extract the set of fields associated with this FeatureLayer and then print each field's name."
   ]
  },
  {
   "cell_type": "code",
   "execution_count": null,
   "metadata": {},
   "outputs": [],
   "source": [
    "#Extract a list of fields from the layer's properties object\n",
    "theFields = layer.properties.fields"
   ]
  },
  {
   "cell_type": "code",
   "execution_count": null,
   "metadata": {},
   "outputs": [],
   "source": [
    "#Print all the field names\n",
    "for f in theFields: \n",
    "    print (f.name)"
   ]
  },
  {
   "cell_type": "markdown",
   "metadata": {},
   "source": [
    "The FeatureLayers object has a function called `get_unique_values()` which returns a list of unique values for a specific field.."
   ]
  },
  {
   "cell_type": "code",
   "execution_count": null,
   "metadata": {},
   "outputs": [],
   "source": [
    "#Get unique values in a given field\n",
    "layer.get_unique_values('State')"
   ]
  },
  {
   "cell_type": "markdown",
   "metadata": {},
   "source": [
    "#### ♦FeatureLayer to FeatureSet via the `query()` command"
   ]
  },
  {
   "cell_type": "code",
   "execution_count": null,
   "metadata": {},
   "outputs": [],
   "source": [
    "#Query a set of features from the layer\n",
    "selected_features = layer.query(\"State = 'NC'\")\n",
    "type(selected_features)"
   ]
  },
  {
   "cell_type": "code",
   "execution_count": null,
   "metadata": {},
   "outputs": [],
   "source": [
    "#How many feature have been returned?\n",
    "len(selected_features)"
   ]
  },
  {
   "cell_type": "markdown",
   "metadata": {},
   "source": [
    "#### ♦FeatureSet to Spatial Dataframe via the `sdf`  command\n",
    "When we query the layer, it returns a new object, the arcgis [FeatureSet](https://developers.arcgis.com/python/api-reference/arcgis.features.toc.html#featureset). We can convert this to a [Spatially enabled dataframe](https://developers.arcgis.com/python/api-reference/arcgis.features.toc.html#spatialdataframe) which is much  has all the functionality of a Pandas dataframe *plus* some additional spatial abilities. "
   ]
  },
  {
   "cell_type": "code",
   "execution_count": null,
   "metadata": {},
   "outputs": [],
   "source": [
    "#Convert the FeatureSet to a SpatialDataFrame\n",
    "sdfFeatures = selected_features.sdf\n",
    "sdfFeatures.head()"
   ]
  },
  {
   "cell_type": "markdown",
   "metadata": {},
   "source": [
    "By adding `.spatial` after the spatial dataframe object, we get access to its spatial capabilities. "
   ]
  },
  {
   "cell_type": "code",
   "execution_count": null,
   "metadata": {},
   "outputs": [],
   "source": [
    "#Show the spatial reference of the SpatialDataFrame\n",
    "sdfFeatures.spatial.sr"
   ]
  },
  {
   "cell_type": "code",
   "execution_count": null,
   "metadata": {},
   "outputs": [],
   "source": [
    "#Reveal the coordinates of the centroid of the dataset\n",
    "sdfFeatures.spatial.centroid"
   ]
  },
  {
   "cell_type": "markdown",
   "metadata": {},
   "source": [
    "#### ♦Saving the data to a local file\n",
    "And finally we'll save the data to a local file. To do this, its useful to create folder into which the files will be sent. We can do this with Python's `os` module and its `mkdir` command."
   ]
  },
  {
   "cell_type": "code",
   "execution_count": null,
   "metadata": {},
   "outputs": [],
   "source": [
    "#Create a folder to hold the data\n",
    "import os\n",
    "os.mkdir(\"MJBA\")"
   ]
  },
  {
   "cell_type": "code",
   "execution_count": null,
   "metadata": {},
   "outputs": [],
   "source": [
    "#Export the data to the folder as a shapefile called \"Exits.shp\"\n",
    "sdfFeatures.spatial.to_featureclass(location='MJBA/Exits.shp')"
   ]
  },
  {
   "cell_type": "markdown",
   "metadata": {},
   "source": [
    "If you are working on a remote machine, you'll likely want to zip all the individual shapefile files into a single Zip archive for easy downloading. We can do this with the `shutil`'s `make_archive` funciton. "
   ]
  },
  {
   "cell_type": "code",
   "execution_count": null,
   "metadata": {},
   "outputs": [],
   "source": [
    "#Zip all the shapefiles into a zip file\n",
    "from shutil import make_archive\n",
    "make_archive('MJBA','zip','MJBA')"
   ]
  },
  {
   "cell_type": "markdown",
   "metadata": {},
   "source": [
    "### Bonus: Preview of Mapping with the ArcGIS Python API"
   ]
  },
  {
   "cell_type": "code",
   "execution_count": null,
   "metadata": {},
   "outputs": [],
   "source": [
    "#Create a map centered on Durham\n",
    "theMap = gis.map('Durham, NC')\n",
    "theMap"
   ]
  },
  {
   "cell_type": "code",
   "execution_count": null,
   "metadata": {},
   "outputs": [],
   "source": [
    "#Plot the exits on the map\n",
    "sdfFeatures.spatial.plot(theMap,\n",
    "                         col='County',\n",
    "                         renderer_type='u')"
   ]
  }
 ],
 "metadata": {
  "kernelspec": {
   "display_name": "Python 3",
   "language": "python",
   "name": "python3"
  },
  "language_info": {
   "codemirror_mode": {
    "name": "ipython",
    "version": 3
   },
   "file_extension": ".py",
   "mimetype": "text/x-python",
   "name": "python",
   "nbconvert_exporter": "python",
   "pygments_lexer": "ipython3",
   "version": "3.7.3"
  }
 },
 "nbformat": 4,
 "nbformat_minor": 2
}
