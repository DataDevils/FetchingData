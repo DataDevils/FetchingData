{
 "cells": [
  {
   "cell_type": "markdown",
   "metadata": {},
   "source": [
    "# Fetching data from ESRI REST End Points\n",
    "\n",
    "In the last example, we used the ArcGIS Python API to search for content hosted on ArcGIS Online. Here, we change things a bit and look at the process of obtaining data if you only have the URL for the data. \n",
    "\n",
    "For example, when exploring data in ArcGIS Pro, we searched for `gas station NC` and found a nice map service that displayed the locations of all the gas stations in North Carolina. By looking at its properties, we discovered the URL associated with this service: https://services.nconemap.gov/secure/rest/services/NC1Map_Energy/MapServer. And by exploring the web site associated with this service, we found a treasure trove of other useful services: https://services.nconemap.gov/secure/rest/services. \n",
    "\n",
    "Turns out that if you add `arcgis/rest/services` or perhaps just `rest/services` to a Google search on a keyword, you might discover other geospatial data services that may be helpful to your objective. \n",
    "\n",
    "In this tutorial, we explore how we can extract data from these services and save them as local feature classes. This again leverages the **ArcGIS Python API**. We'll use the example of the Gas Stations service we found, but this should work with any similar site.  "
   ]
  },
  {
   "cell_type": "markdown",
   "metadata": {},
   "source": [
    "## Gas Stations\n",
    "The URL for the Gas Stations service is here:\n",
    "* https://services.nconemap.gov/secure/rest/services/NC1Map_Energy/MapServer/0\n",
    "\n",
    "Now we want to see how we extract data from this dataset into a local shapefile. Turns out the ArcGIS Python API allows us to create a FeatureLayer object directly from the URL of the service. It's actually quite easy! The actual steps include:\n",
    "* Importing the FeatureLayer class (from the arcgis package)\n",
    "* Creating a new FeatureLayer instance from the URL of the service\n",
    "* Converting the FeatureLayer to a Spatial Dataframe, using the `sdf` command\n",
    "* Exporting the Spatial Dataframe to a local shapefile, using the `to_featureclsas` command"
   ]
  },
  {
   "cell_type": "code",
   "execution_count": null,
   "metadata": {},
   "outputs": [],
   "source": [
    "#Import the FeatureLayer object from the ArcGIS Python API\n",
    "from arcgis.features import FeatureLayer"
   ]
  },
  {
   "cell_type": "code",
   "execution_count": null,
   "metadata": {},
   "outputs": [],
   "source": [
    "#Set a variable to the service URL\n",
    "serviceURL = 'https://services.nconemap.gov/secure/rest/services/NC1Map_Energy/MapServer/0'"
   ]
  },
  {
   "cell_type": "code",
   "execution_count": null,
   "metadata": {},
   "outputs": [],
   "source": [
    "#Create a FeatureLayer object from the URL\n",
    "gasFeatures = FeatureLayer(serviceURL)\n",
    "type(gasFeatures)"
   ]
  },
  {
   "cell_type": "code",
   "execution_count": null,
   "metadata": {},
   "outputs": [],
   "source": [
    "#Reveal the fields associated with this layer\n",
    "for f in gasFeatures.properties.fields: \n",
    "    print(f.name)"
   ]
  },
  {
   "cell_type": "code",
   "execution_count": null,
   "metadata": {},
   "outputs": [],
   "source": [
    "#Convert to a spatial dataframe\n",
    "sdfGas = gasFeatures.query().sdf\n",
    "sdfGas.head()"
   ]
  },
  {
   "cell_type": "code",
   "execution_count": null,
   "metadata": {},
   "outputs": [],
   "source": [
    "#Create a new folder, save the data to this folder, and zip up the folder\n",
    "import os, shutil\n",
    "os.mkdir('GasStations')\n",
    "sdfGas.spatial.to_featureclass(location='GasStations/GasStations.shp')\n",
    "shutil.make_archive('GasStations','zip','GasStations')"
   ]
  },
  {
   "cell_type": "markdown",
   "metadata": {},
   "source": [
    "Again - a bonus map, here displaying a \"heat map\" of gas stations..."
   ]
  },
  {
   "cell_type": "code",
   "execution_count": null,
   "metadata": {},
   "outputs": [],
   "source": [
    "from arcgis import GIS\n",
    "gis = GIS()\n",
    "theMap = gis.map(\"Durham County, NC\")\n",
    "sdfGas.spatial.plot(theMap,\n",
    "                    col='Gasoline',\n",
    "                    renderer_type='h')\n",
    "theMap"
   ]
  }
 ],
 "metadata": {
  "kernelspec": {
   "display_name": "Python 3",
   "language": "python",
   "name": "python3"
  },
  "language_info": {
   "codemirror_mode": {
    "name": "ipython",
    "version": 3
   },
   "file_extension": ".py",
   "mimetype": "text/x-python",
   "name": "python",
   "nbconvert_exporter": "python",
   "pygments_lexer": "ipython3",
   "version": "3.7.3"
  }
 },
 "nbformat": 4,
 "nbformat_minor": 2
}
